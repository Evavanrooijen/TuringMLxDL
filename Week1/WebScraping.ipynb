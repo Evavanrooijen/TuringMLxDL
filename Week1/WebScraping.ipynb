print('Hello World')
pd.read_html('https://www.microsoft.com/en-us/research/video/big-data-and-bayesian-nonparametrics/')
